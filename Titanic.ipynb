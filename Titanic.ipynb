{
 "cells": [
  {
   "cell_type": "markdown",
   "id": "e4f5a7a9",
   "metadata": {},
   "source": [
    "# New Note Book\n"
   ]
  }
 ],
 "metadata": {
  "language_info": {
   "name": "python"
  }
 },
 "nbformat": 4,
 "nbformat_minor": 5
}
